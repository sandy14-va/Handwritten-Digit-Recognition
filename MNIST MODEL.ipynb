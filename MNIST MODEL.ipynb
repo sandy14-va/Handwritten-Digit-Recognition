{
 "cells": [
  {
   "cell_type": "code",
   "execution_count": 1,
   "id": "15d066f0",
   "metadata": {},
   "outputs": [],
   "source": [
    "import tensorflow as tf\n",
    "from tensorflow import keras\n",
    "import pandas as pd\n",
    "import numpy as np"
   ]
  },
  {
   "cell_type": "markdown",
   "id": "5d0d7440",
   "metadata": {},
   "source": [
    "## Loading the Dataset"
   ]
  },
  {
   "cell_type": "code",
   "execution_count": 2,
   "id": "b52275b1",
   "metadata": {},
   "outputs": [],
   "source": [
    "(x_train, y_train),(x_test, y_test) = keras.datasets.mnist.load_data()"
   ]
  },
  {
   "cell_type": "code",
   "execution_count": 3,
   "id": "f1aca102",
   "metadata": {},
   "outputs": [
    {
     "data": {
      "text/plain": [
       "(60000, 28, 28)"
      ]
     },
     "execution_count": 3,
     "metadata": {},
     "output_type": "execute_result"
    }
   ],
   "source": [
    "x_train.shape"
   ]
  },
  {
   "cell_type": "code",
   "execution_count": 4,
   "id": "3f18f30d",
   "metadata": {},
   "outputs": [],
   "source": [
    "x_train=x_train.reshape(-1, 28, 28, 1)\n",
    "x_test=x_test.reshape(-1, 28, 28, 1)"
   ]
  },
  {
   "cell_type": "code",
   "execution_count": 5,
   "id": "fde2dd94",
   "metadata": {},
   "outputs": [
    {
     "data": {
      "text/plain": [
       "(10000, 28, 28, 1)"
      ]
     },
     "execution_count": 5,
     "metadata": {},
     "output_type": "execute_result"
    }
   ],
   "source": [
    "x_test.shape"
   ]
  },
  {
   "cell_type": "markdown",
   "id": "180c454b",
   "metadata": {},
   "source": [
    "## Normalizing the data"
   ]
  },
  {
   "cell_type": "code",
   "execution_count": 6,
   "id": "7d7a0ffd",
   "metadata": {},
   "outputs": [],
   "source": [
    "x_train=x_train/255\n",
    "x_test=x_test/255"
   ]
  },
  {
   "cell_type": "markdown",
   "id": "bad5167b",
   "metadata": {},
   "source": [
    "## Building a CNN "
   ]
  },
  {
   "cell_type": "code",
   "execution_count": 7,
   "id": "1e745c95",
   "metadata": {},
   "outputs": [],
   "source": [
    "cnn=keras.Sequential([\n",
    "    #cnn layers\n",
    "    keras.layers.Conv2D(64, kernel_size=(3,3), activation=\"relu\", input_shape=(28,28,1)),\n",
    "    keras.layers.MaxPool2D((2,2)),\n",
    "    \n",
    "    keras.layers.Conv2D(64, kernel_size=(3,3), activation=\"relu\"),\n",
    "    keras.layers.MaxPool2D((2,2)),\n",
    "    \n",
    "    keras.layers.Conv2D(64, kernel_size=(3,3), activation=\"relu\"),\n",
    "    keras.layers.MaxPool2D((2,2)),\n",
    "    \n",
    "    #Dense Layers\n",
    "    keras.layers.Flatten(),\n",
    "    keras.layers.Dense(64, activation=\"relu\"),\n",
    "    keras.layers.Dense(10, activation=\"softmax\")\n",
    "])\n",
    "\n",
    "cnn.compile(optimizer=\"adam\",\n",
    "           loss=\"sparse_categorical_crossentropy\",\n",
    "            metrics=[\"accuracy\"]\n",
    "           )"
   ]
  },
  {
   "cell_type": "code",
   "execution_count": 8,
   "id": "ffecc952",
   "metadata": {},
   "outputs": [
    {
     "name": "stdout",
     "output_type": "stream",
     "text": [
      "Epoch 1/10\n",
      "1875/1875 [==============================] - 44s 23ms/step - loss: 0.2050 - accuracy: 0.9362 - val_loss: 0.0695 - val_accuracy: 0.9790\n",
      "Epoch 2/10\n",
      "1875/1875 [==============================] - 44s 24ms/step - loss: 0.0705 - accuracy: 0.9784 - val_loss: 0.0666 - val_accuracy: 0.9780\n",
      "Epoch 3/10\n",
      "1875/1875 [==============================] - 44s 24ms/step - loss: 0.0498 - accuracy: 0.9844 - val_loss: 0.0535 - val_accuracy: 0.9839\n",
      "Epoch 4/10\n",
      "1875/1875 [==============================] - 45s 24ms/step - loss: 0.0380 - accuracy: 0.9881 - val_loss: 0.0540 - val_accuracy: 0.9839\n",
      "Epoch 5/10\n",
      "1875/1875 [==============================] - 45s 24ms/step - loss: 0.0314 - accuracy: 0.9902 - val_loss: 0.0452 - val_accuracy: 0.9871\n",
      "Epoch 6/10\n",
      "1875/1875 [==============================] - 45s 24ms/step - loss: 0.0253 - accuracy: 0.9918 - val_loss: 0.0452 - val_accuracy: 0.9892\n",
      "Epoch 7/10\n",
      "1875/1875 [==============================] - 43s 23ms/step - loss: 0.0219 - accuracy: 0.9934 - val_loss: 0.0442 - val_accuracy: 0.9879\n",
      "Epoch 8/10\n",
      "1875/1875 [==============================] - 44s 24ms/step - loss: 0.0184 - accuracy: 0.9941 - val_loss: 0.0455 - val_accuracy: 0.9886\n",
      "Epoch 9/10\n",
      "1875/1875 [==============================] - 43s 23ms/step - loss: 0.0151 - accuracy: 0.9951 - val_loss: 0.0472 - val_accuracy: 0.9870\n",
      "Epoch 10/10\n",
      "1875/1875 [==============================] - 43s 23ms/step - loss: 0.0137 - accuracy: 0.9953 - val_loss: 0.0516 - val_accuracy: 0.9889\n"
     ]
    },
    {
     "data": {
      "text/plain": [
       "<tensorflow.python.keras.callbacks.History at 0x1aba792f550>"
      ]
     },
     "execution_count": 8,
     "metadata": {},
     "output_type": "execute_result"
    }
   ],
   "source": [
    "cnn.fit(x_train, y_train, epochs=10, validation_data=(x_test,y_test))"
   ]
  },
  {
   "cell_type": "code",
   "execution_count": 9,
   "id": "b5497e9c",
   "metadata": {},
   "outputs": [
    {
     "data": {
      "text/plain": [
       "array([[3.3372605e-09, 1.4686148e-06, 6.0897793e-05, ..., 9.9993563e-01,\n",
       "        1.0668968e-09, 1.7528187e-06],\n",
       "       [7.5187034e-10, 4.1874715e-10, 1.0000000e+00, ..., 2.3798044e-10,\n",
       "        1.5875170e-12, 1.9821928e-12],\n",
       "       [2.3298388e-09, 9.9999940e-01, 1.1971819e-09, ..., 2.9138852e-07,\n",
       "        9.9353139e-09, 4.8540043e-09],\n",
       "       ...,\n",
       "       [1.6873929e-17, 1.1602472e-13, 2.3811116e-18, ..., 4.6048347e-12,\n",
       "        3.7475429e-11, 2.0560992e-10],\n",
       "       [6.8920048e-07, 4.3299864e-10, 2.4907360e-10, ..., 7.6705697e-11,\n",
       "        1.2592932e-06, 3.2704207e-07],\n",
       "       [1.1529558e-10, 7.8638729e-14, 1.2181055e-10, ..., 2.8590948e-18,\n",
       "        3.1619851e-10, 3.2755597e-12]], dtype=float32)"
      ]
     },
     "execution_count": 9,
     "metadata": {},
     "output_type": "execute_result"
    }
   ],
   "source": [
    "y_pred= cnn.predict(x_test)\n",
    "y_pred"
   ]
  },
  {
   "cell_type": "code",
   "execution_count": 10,
   "id": "65d537ed",
   "metadata": {},
   "outputs": [
    {
     "name": "stdout",
     "output_type": "stream",
     "text": [
      "313/313 [==============================] - 2s 6ms/step - loss: 0.0516 - accuracy: 0.9889\n"
     ]
    },
    {
     "data": {
      "text/plain": [
       "[0.05157487094402313, 0.9889000058174133]"
      ]
     },
     "execution_count": 10,
     "metadata": {},
     "output_type": "execute_result"
    }
   ],
   "source": [
    "cnn.evaluate(x_test, y_test)"
   ]
  },
  {
   "cell_type": "code",
   "execution_count": 11,
   "id": "fcd6be6a",
   "metadata": {},
   "outputs": [],
   "source": [
    "y_pred_classes=[]\n",
    "for el in y_pred:\n",
    "    y_pred_classes.append(np.argmax(el))"
   ]
  },
  {
   "cell_type": "code",
   "execution_count": 12,
   "id": "6c34f47b",
   "metadata": {},
   "outputs": [
    {
     "data": {
      "text/plain": [
       "array([7, 2, 1, 0, 4], dtype=uint8)"
      ]
     },
     "execution_count": 12,
     "metadata": {},
     "output_type": "execute_result"
    }
   ],
   "source": [
    "y_test[:5]"
   ]
  },
  {
   "cell_type": "code",
   "execution_count": 13,
   "id": "285add87",
   "metadata": {},
   "outputs": [
    {
     "data": {
      "text/plain": [
       "[7, 2, 1, 0, 4]"
      ]
     },
     "execution_count": 13,
     "metadata": {},
     "output_type": "execute_result"
    }
   ],
   "source": [
    "y_pred_classes[:5]"
   ]
  },
  {
   "cell_type": "code",
   "execution_count": 14,
   "id": "1e6609e1",
   "metadata": {},
   "outputs": [],
   "source": [
    "cnn.save(\"mnist_conv_model.h5\")"
   ]
  },
  {
   "cell_type": "code",
   "execution_count": 16,
   "id": "95ebcf4b",
   "metadata": {},
   "outputs": [
    {
     "name": "stderr",
     "output_type": "stream",
     "text": [
      "Matplotlib is building the font cache; this may take a moment.\n"
     ]
    },
    {
     "name": "stdout",
     "output_type": "stream",
     "text": [
      "Confusion_matrix:  tf.Tensor(\n",
      "[[ 966    2    1    0    0    1    6    3    0    1]\n",
      " [   0 1133    0    1    0    0    0    1    0    0]\n",
      " [   1    0 1020    1    0    0    1    8    1    0]\n",
      " [   0    0    8  997    0    2    0    2    1    0]\n",
      " [   0    0    0    0  977    0    1    1    0    3]\n",
      " [   2    0    1    4    0  881    2    1    1    0]\n",
      " [   2    6    0    0    1    1  946    0    2    0]\n",
      " [   0    4    8    0    1    1    0 1012    2    0]\n",
      " [   2    0    1    0    1    0    0    1  964    5]\n",
      " [   0    0    1    0    4    4    1    5    1  993]], shape=(10, 10), dtype=int32)\n"
     ]
    },
    {
     "data": {
      "image/png": "[encoded data removed]",
      "text/plain": [
       "<Figure size 720x504 with 2 Axes>"
      ]
     },
     "metadata": {
      "needs_background": "light"
     },
     "output_type": "display_data"
    }
   ],
   "source": [
    "labels = y_test[:]\n",
    "predictions = y_pred_classes[:] \n",
    "\n",
    "res = tf.math.confusion_matrix(labels,predictions)\n",
    "\n",
    "import seaborn as sn\n",
    "import matplotlib.pyplot as plt\n",
    "plt.figure(figsize=(10,7))\n",
    "sn.heatmap(res, annot=True)\n",
    "plt.xlabel('Predicted')\n",
    "plt.ylabel('Truth')\n",
    "\n",
    "print('Confusion_matrix: ',res)"
   ]
  },
  {
   "cell_type": "code",
   "execution_count": null,
   "id": "0180f712",
   "metadata": {},
   "outputs": [],
   "source": []
  }
 ],
 "metadata": {
  "kernelspec": {
   "display_name": "Python 3",
   "language": "python",
   "name": "python3"
  },
  "language_info": {
   "codemirror_mode": {
    "name": "ipython",
    "version": 3
   },
   "file_extension": ".py",
   "mimetype": "text/x-python",
   "name": "python",
   "nbconvert_exporter": "python",
   "pygments_lexer": "ipython3",
   "version": "3.6.8"
  }
 },
 "nbformat": 4,
 "nbformat_minor": 5
}
