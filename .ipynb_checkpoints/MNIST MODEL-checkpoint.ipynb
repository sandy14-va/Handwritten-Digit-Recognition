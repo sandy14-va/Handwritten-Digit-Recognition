{
 "cells": [
  {
   "cell_type": "code",
   "execution_count": 1,
   "id": "15d066f0",
   "metadata": {},
   "outputs": [],
   "source": [
    "import tensorflow as tf\n",
    "from tensorflow import keras\n",
    "import pandas as pd\n",
    "import numpy as np"
   ]
  },
  {
   "cell_type": "markdown",
   "id": "5d0d7440",
   "metadata": {},
   "source": [
    "## Loading the Dataset"
   ]
  },
  {
   "cell_type": "code",
   "execution_count": 2,
   "id": "b52275b1",
   "metadata": {},
   "outputs": [],
   "source": [
    "(x_train, y_train),(x_test, y_test) = keras.datasets.mnist.load_data()"
   ]
  },
  {
   "cell_type": "code",
   "execution_count": 3,
   "id": "f1aca102",
   "metadata": {},
   "outputs": [
    {
     "data": {
      "text/plain": [
       "(60000, 28, 28)"
      ]
     },
     "execution_count": 3,
     "metadata": {},
     "output_type": "execute_result"
    }
   ],
   "source": [
    "x_train.shape"
   ]
  },
  {
   "cell_type": "code",
   "execution_count": 4,
   "id": "3f18f30d",
   "metadata": {},
   "outputs": [],
   "source": [
    "x_train=x_train.reshape(-1, 28, 28, 1)\n",
    "x_test=x_test.reshape(-1, 28, 28, 1)"
   ]
  },
  {
   "cell_type": "code",
   "execution_count": 5,
   "id": "fde2dd94",
   "metadata": {},
   "outputs": [
    {
     "data": {
      "text/plain": [
       "(10000, 28, 28, 1)"
      ]
     },
     "execution_count": 5,
     "metadata": {},
     "output_type": "execute_result"
    }
   ],
   "source": [
    "x_test.shape"
   ]
  },
  {
   "cell_type": "markdown",
   "id": "180c454b",
   "metadata": {},
   "source": [
    "## Normalizing the data"
   ]
  },
  {
   "cell_type": "code",
   "execution_count": 6,
   "id": "7d7a0ffd",
   "metadata": {},
   "outputs": [],
   "source": [
    "x_train=x_train/255\n",
    "x_test=x_test/255"
   ]
  },
  {
   "cell_type": "markdown",
   "id": "bad5167b",
   "metadata": {},
   "source": [
    "## Building a CNN "
   ]
  },
  {
   "cell_type": "code",
   "execution_count": 214,
   "id": "1e745c95",
   "metadata": {},
   "outputs": [],
   "source": [
    "cnn=keras.Sequential([\n",
    "    #cnn layers\n",
    "    keras.layers.Conv2D(64, kernel_size=(3,3), activation=\"relu\", input_shape=(28,28,1)),\n",
    "    keras.layers.MaxPool2D((2,2)),\n",
    "    \n",
    "    keras.layers.Conv2D(64, kernel_size=(3,3), activation=\"relu\"),\n",
    "    keras.layers.MaxPool2D((2,2)),\n",
    "    \n",
    "    keras.layers.Conv2D(64, kernel_size=(3,3), activation=\"relu\"),\n",
    "    keras.layers.MaxPool2D((2,2)),\n",
    "    \n",
    "    #Dense Layers\n",
    "    keras.layers.Flatten(),\n",
    "    keras.layers.Dense(64, activation=\"relu\"),\n",
    "    keras.layers.Dense(10, activation=\"softmax\")\n",
    "])\n",
    "\n",
    "cnn.compile(optimizer=\"adam\",\n",
    "           loss=\"sparse_categorical_crossentropy\",\n",
    "            metrics=[\"accuracy\"]\n",
    "           )"
   ]
  },
  {
   "cell_type": "code",
   "execution_count": 215,
   "id": "ffecc952",
   "metadata": {},
   "outputs": [
    {
     "name": "stdout",
     "output_type": "stream",
     "text": [
      "Epoch 1/10\n",
      "1875/1875 [==============================] - 66s 35ms/step - loss: 0.2060 - accuracy: 0.9349 - val_loss: 0.0746 - val_accuracy: 0.9778\n",
      "Epoch 2/10\n",
      "1875/1875 [==============================] - 67s 36ms/step - loss: 0.0719 - accuracy: 0.9781 - val_loss: 0.0627 - val_accuracy: 0.9820\n",
      "Epoch 3/10\n",
      "1875/1875 [==============================] - 67s 36ms/step - loss: 0.0518 - accuracy: 0.9836 - val_loss: 0.0517 - val_accuracy: 0.9831\n",
      "Epoch 4/10\n",
      "1875/1875 [==============================] - 68s 36ms/step - loss: 0.0403 - accuracy: 0.9871 - val_loss: 0.0527 - val_accuracy: 0.9860\n",
      "Epoch 5/10\n",
      "1875/1875 [==============================] - 70s 37ms/step - loss: 0.0341 - accuracy: 0.9888 - val_loss: 0.0498 - val_accuracy: 0.9855\n",
      "Epoch 6/10\n",
      "1875/1875 [==============================] - 69s 37ms/step - loss: 0.0272 - accuracy: 0.9913 - val_loss: 0.0500 - val_accuracy: 0.9856\n",
      "Epoch 7/10\n",
      "1875/1875 [==============================] - 69s 37ms/step - loss: 0.0214 - accuracy: 0.9932 - val_loss: 0.0534 - val_accuracy: 0.9854\n",
      "Epoch 8/10\n",
      "1875/1875 [==============================] - 70s 37ms/step - loss: 0.0181 - accuracy: 0.9941 - val_loss: 0.0462 - val_accuracy: 0.9882\n",
      "Epoch 9/10\n",
      "1875/1875 [==============================] - 70s 37ms/step - loss: 0.0167 - accuracy: 0.9946 - val_loss: 0.0528 - val_accuracy: 0.9868\n",
      "Epoch 10/10\n",
      "1875/1875 [==============================] - 70s 37ms/step - loss: 0.0155 - accuracy: 0.9944 - val_loss: 0.0608 - val_accuracy: 0.9852\n"
     ]
    },
    {
     "data": {
      "text/plain": [
       "<tensorflow.python.keras.callbacks.History at 0x1a9038f23d0>"
      ]
     },
     "execution_count": 215,
     "metadata": {},
     "output_type": "execute_result"
    }
   ],
   "source": [
    "cnn.fit(x_train, y_train, epochs=10, validation_data=(x_test,y_test))"
   ]
  },
  {
   "cell_type": "code",
   "execution_count": 216,
   "id": "b5497e9c",
   "metadata": {},
   "outputs": [
    {
     "data": {
      "text/plain": [
       "array([[7.9234612e-11, 4.6663722e-08, 5.3422728e-08, ..., 9.9999988e-01,\n",
       "        1.9141926e-11, 8.4397351e-09],\n",
       "       [1.2750139e-09, 1.6728115e-10, 9.9999976e-01, ..., 1.3218399e-10,\n",
       "        1.8470563e-07, 6.2752714e-14],\n",
       "       [1.4272535e-08, 9.9986005e-01, 3.1010320e-06, ..., 4.7068588e-06,\n",
       "        1.1709396e-04, 1.6556092e-07],\n",
       "       ...,\n",
       "       [1.7976924e-19, 3.5532147e-15, 1.4389036e-20, ..., 2.6800577e-18,\n",
       "        3.4495859e-12, 2.9280818e-13],\n",
       "       [1.4041749e-09, 5.2922220e-12, 1.1190772e-12, ..., 6.2253355e-13,\n",
       "        1.9785806e-07, 4.6017441e-08],\n",
       "       [2.3986069e-10, 1.8901368e-13, 2.8414284e-09, ..., 1.6468857e-15,\n",
       "        1.2329610e-09, 2.5805423e-12]], dtype=float32)"
      ]
     },
     "execution_count": 216,
     "metadata": {},
     "output_type": "execute_result"
    }
   ],
   "source": [
    "y_pred= cnn.predict(x_test)\n",
    "y_pred"
   ]
  },
  {
   "cell_type": "code",
   "execution_count": 217,
   "id": "65d537ed",
   "metadata": {},
   "outputs": [
    {
     "name": "stdout",
     "output_type": "stream",
     "text": [
      "313/313 [==============================] - 3s 9ms/step - loss: 0.0608 - accuracy: 0.9852\n"
     ]
    },
    {
     "data": {
      "text/plain": [
       "[0.06080025061964989, 0.9851999878883362]"
      ]
     },
     "execution_count": 217,
     "metadata": {},
     "output_type": "execute_result"
    }
   ],
   "source": [
    "cnn.evaluate(x_test, y_test)"
   ]
  },
  {
   "cell_type": "code",
   "execution_count": 218,
   "id": "fcd6be6a",
   "metadata": {},
   "outputs": [],
   "source": [
    "y_pred_classes=[]\n",
    "for el in y_pred:\n",
    "    y_pred_classes.append(np.argmax(el))"
   ]
  },
  {
   "cell_type": "code",
   "execution_count": 219,
   "id": "6c34f47b",
   "metadata": {},
   "outputs": [
    {
     "data": {
      "text/plain": [
       "array([7, 2, 1, 0, 4], dtype=uint8)"
      ]
     },
     "execution_count": 219,
     "metadata": {},
     "output_type": "execute_result"
    }
   ],
   "source": [
    "y_test[:5]"
   ]
  },
  {
   "cell_type": "code",
   "execution_count": 220,
   "id": "285add87",
   "metadata": {},
   "outputs": [
    {
     "data": {
      "text/plain": [
       "[7, 2, 1, 0, 4]"
      ]
     },
     "execution_count": 220,
     "metadata": {},
     "output_type": "execute_result"
    }
   ],
   "source": [
    "y_pred_classes[:5]"
   ]
  },
  {
   "cell_type": "code",
   "execution_count": 221,
   "id": "1e6609e1",
   "metadata": {},
   "outputs": [],
   "source": [
    "cnn.save(\"mnist_conv_model.h5\")"
   ]
  }
 ],
 "metadata": {
  "kernelspec": {
   "display_name": "Python 3",
   "language": "python",
   "name": "python3"
  },
  "language_info": {
   "codemirror_mode": {
    "name": "ipython",
    "version": 3
   },
   "file_extension": ".py",
   "mimetype": "text/x-python",
   "name": "python",
   "nbconvert_exporter": "python",
   "pygments_lexer": "ipython3",
   "version": "3.6.8"
  }
 },
 "nbformat": 4,
 "nbformat_minor": 5
}
